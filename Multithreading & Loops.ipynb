{
 "cells": [
  {
   "cell_type": "code",
   "execution_count": 1,
   "metadata": {
    "collapsed": true,
    "pycharm": {
     "is_executing": true
    }
   },
   "outputs": [
    {
     "name": "stdout",
     "output_type": "stream",
     "text": [
      "The prime numbers up to 32:\n",
      "2\n",
      "3\n",
      "5\n",
      "7\n",
      "11\n",
      "13\n",
      "17\n",
      "19\n",
      "23\n",
      "29\n",
      "31\n"
     ]
    }
   ],
   "source": [
    "import threading\n",
    "\n",
    "\n",
    "def prime(x):\n",
    "    if x < 2: return False\n",
    "    elif x in (2, 3): return True\n",
    "    elif x % 2 == 0: return False\n",
    "    else:\n",
    "        for i in range(3, int(x ** 0.5) + 1):\n",
    "            if x % i == 0: return False\n",
    "        else:\n",
    "            return True\n",
    "\n",
    "\n",
    "def result(parameter):\n",
    "    while True:\n",
    "        try:\n",
    "            x = next(parameter)\n",
    "        except:\n",
    "            break\n",
    "        else:\n",
    "            if prime(x):\n",
    "                print(x)\n",
    "\n",
    "\n",
    "try:\n",
    "    number = int(input('Introduce a number:'))\n",
    "except ValueError:\n",
    "    print('Please input a integer!')\n",
    "else:\n",
    "    print(f'The prime numbers up to {number}:')\n",
    "    array = iter(range(number + 1))\n",
    "    thread_stack = []\n",
    "    count = number // 10\n",
    "    for i in range(count):\n",
    "        thread = threading.Thread(target=result, args=(array,))\n",
    "        thread_stack.append(thread)\n",
    "    for t in thread_stack: t.start(), t.join()\n"
   ]
  },
  {
   "cell_type": "code",
   "execution_count": 2,
   "metadata": {},
   "outputs": [
    {
     "name": "stdout",
     "output_type": "stream",
     "text": [
      "*******\n",
      "     * \n",
      "    *  \n",
      "   *   \n",
      "  *    \n",
      " *     \n",
      "*******\n",
      "\n"
     ]
    }
   ],
   "source": [
    "def pattern_z():\n",
    "    pattern = \"\"\n",
    "    for row in range(0, 7):\n",
    "        for column in range(0, 7):\n",
    "            if (row == 0 or row == 6) or (column < 6 and column >= 1 and column + row == 6 ):\n",
    "                pattern += \"*\"\n",
    "            else:\n",
    "                pattern += \" \"\n",
    "        else:\n",
    "            pattern += \"\\n\"\n",
    "    else:\n",
    "        print(pattern)\n",
    "        return \n",
    "pattern_z()"
   ]
  },
  {
   "cell_type": "code",
   "execution_count": 3,
   "metadata": {},
   "outputs": [
    {
     "name": "stdout",
     "output_type": "stream",
     "text": [
      "1*1=1\t\n",
      "2*1=2\t2*2=4\t\n",
      "3*1=3\t3*2=6\t3*3=9\t\n",
      "4*1=4\t4*2=8\t4*3=12\t4*4=16\t\n",
      "5*1=5\t5*2=10\t5*3=15\t5*4=20\t5*5=25\t\n",
      "6*1=6\t6*2=12\t6*3=18\t6*4=24\t6*5=30\t6*6=36\t\n",
      "7*1=7\t7*2=14\t7*3=21\t7*4=28\t7*5=35\t7*6=42\t7*7=49\t\n",
      "8*1=8\t8*2=16\t8*3=24\t8*4=32\t8*5=40\t8*6=48\t8*7=56\t8*8=64\t\n",
      "9*1=9\t9*2=18\t9*3=27\t9*4=36\t9*5=45\t9*6=54\t9*7=63\t9*8=72\t9*9=81\t\n"
     ]
    }
   ],
   "source": [
    "for i in range(1, 10):\n",
    "    for j in range(1, i+1):\n",
    "        print(\"{}*{}={}\\t\".format(i,j,i*j), end=\"\")\n",
    "    print()"
   ]
  },
  {
   "cell_type": "code",
   "execution_count": 1,
   "metadata": {},
   "outputs": [
    {
     "name": "stdout",
     "output_type": "stream",
     "text": [
      "+--------+---------+\n",
      "|        +         |\n",
      "|        +         |\n",
      "|        +         |\n",
      "|        +         |\n",
      "+--------+---------+\n",
      "|        +         |\n",
      "|        +         |\n",
      "|        +         |\n",
      "|        +         |\n",
      "+--------+---------+\n"
     ]
    }
   ],
   "source": [
    "for i in range(1,12):\n",
    "    if i == 1 or i == 6 or i == 11:\n",
    "        print(\"+{:-^18}+\".format(\"+\"))\n",
    "    else:\n",
    "        print(\"|{: ^18}|\".format(\"+\"))\n",
    "    print(end=\"\")"
   ]
  }
 ],
 "metadata": {
  "kernelspec": {
   "display_name": "Python 3",
   "language": "python",
   "name": "python3"
  },
  "language_info": {
   "codemirror_mode": {
    "name": "ipython",
    "version": 3
   },
   "file_extension": ".py",
   "mimetype": "text/x-python",
   "name": "python",
   "nbconvert_exporter": "python",
   "pygments_lexer": "ipython3",
   "version": "3.10.0"
  },
  "vscode": {
   "interpreter": {
    "hash": "c7af7df4901773a0e355da496bf365ae011b1b331a57bbc9908dae1ee21823d7"
   }
  }
 },
 "nbformat": 4,
 "nbformat_minor": 0
}
