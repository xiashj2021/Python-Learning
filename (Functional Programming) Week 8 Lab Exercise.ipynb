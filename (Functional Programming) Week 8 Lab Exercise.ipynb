{
 "cells": [
  {
   "cell_type": "code",
   "execution_count": 1,
   "metadata": {
    "collapsed": true
   },
   "outputs": [
    {
     "data": {
      "text/plain": "5"
     },
     "execution_count": 1,
     "metadata": {},
     "output_type": "execute_result"
    }
   ],
   "source": [
    "def fibonacci_number(n):\n",
    "    if n == 1 or n == 2:\n",
    "        return 1\n",
    "    else:\n",
    "        return fibonacci_number(n-1) + fibonacci_number(n-2)\n",
    "fibonacci_number(5)"
   ]
  },
  {
   "cell_type": "code",
   "execution_count": 2,
   "outputs": [
    {
     "name": "stdout",
     "output_type": "stream",
     "text": [
      "Move the disk S from S to D\n",
      "Move the disk S from S to A\n",
      "Move the disk A from A to S\n",
      "Move the disk S from S to D\n",
      "Move the disk D from D to A\n",
      "Move the disk D from D to S\n",
      "Move the disk S from S to D\n",
      "Move the disk S from S to A\n",
      "Move the disk A from A to S\n",
      "Move the disk A from A to D\n",
      "Move the disk D from D to A\n",
      "Move the disk A from A to S\n",
      "Move the disk S from S to D\n",
      "Move the disk S from S to A\n",
      "Move the disk A from A to S\n"
     ]
    }
   ],
   "source": [
    "# Assuming n-th disk is\n",
    "# bottom disk (count down)\n",
    "def tower_of_hanoi(n, source_pole, destination_pole, auxiliary_pole):\n",
    "\n",
    "    # Base case (termination condition)\n",
    "    if 0 == n:\n",
    "        return\n",
    "\n",
    "    # Move first n-1 disks\n",
    "    # from source pole\n",
    "    # to auxiliary pole\n",
    "    # using destination as\n",
    "    # temporary pole\n",
    "    tower_of_hanoi(n-1, source_pole, auxiliary_pole, destination_pole)\n",
    "\n",
    "    print(f'Move the disk {source_pole} from {source_pole} to {auxiliary_pole}')\n",
    "\n",
    "    # Move the n-1 disks from\n",
    "    # auxiliary (now source)\n",
    "    # pole to destination pole\n",
    "    # using source pole as\n",
    "    # temporary (auxiliary) pole\n",
    "    tower_of_hanoi(n-1, auxiliary_pole, destination_pole,source_pole)\n",
    "\n",
    "\n",
    "# Driver code\n",
    "tower_of_hanoi(4, 'S', 'D', 'A')"
   ],
   "metadata": {
    "collapsed": false,
    "pycharm": {
     "name": "#%%\n"
    }
   }
  },
  {
   "cell_type": "code",
   "execution_count": 3,
   "outputs": [
    {
     "data": {
      "text/plain": "16"
     },
     "execution_count": 3,
     "metadata": {},
     "output_type": "execute_result"
    }
   ],
   "source": [
    "def power(a, b):\n",
    "    if b == 0:\n",
    "        return 1\n",
    "    else:\n",
    "        return a * power(a, b-1)\n",
    "\n",
    "power(2, 4)"
   ],
   "metadata": {
    "collapsed": false,
    "pycharm": {
     "name": "#%%\n"
    }
   }
  },
  {
   "cell_type": "code",
   "execution_count": 4,
   "outputs": [
    {
     "data": {
      "text/plain": "10"
     },
     "execution_count": 4,
     "metadata": {},
     "output_type": "execute_result"
    }
   ],
   "source": [
    "def sum_of_digits(number):\n",
    "    if number // 10 == 0:\n",
    "        return number\n",
    "    else:\n",
    "        return number % 10 + sum_of_digits(number//10)\n",
    "\n",
    "sum_of_digits(1234)"
   ],
   "metadata": {
    "collapsed": false,
    "pycharm": {
     "name": "#%%\n"
    }
   }
  },
  {
   "cell_type": "code",
   "execution_count": 5,
   "outputs": [
    {
     "data": {
      "text/plain": "3"
     },
     "execution_count": 5,
     "metadata": {},
     "output_type": "execute_result"
    }
   ],
   "source": [
    "def digits(number):\n",
    "    if number < 10:\n",
    "        return 1\n",
    "    else:\n",
    "        return 1 + digits(number//10)\n",
    "\n",
    "digits(123)"
   ],
   "metadata": {
    "collapsed": false,
    "pycharm": {
     "name": "#%%\n"
    }
   }
  },
  {
   "cell_type": "code",
   "execution_count": 6,
   "outputs": [
    {
     "data": {
      "text/plain": "['n', 'i', 'v', 'e', 'r', 's', 'i', 't', 'y']"
     },
     "execution_count": 6,
     "metadata": {},
     "output_type": "execute_result"
    }
   ],
   "source": [
    "def lower(string):\n",
    "    lower_strings = filter(lambda n: 122 >= ord(n) >= 97, string)\n",
    "    return list(lower_strings)\n",
    "\n",
    "lower(\"University\")"
   ],
   "metadata": {
    "collapsed": false,
    "pycharm": {
     "name": "#%%\n"
    }
   }
  },
  {
   "cell_type": "code",
   "execution_count": 7,
   "outputs": [
    {
     "data": {
      "text/plain": "True"
     },
     "execution_count": 7,
     "metadata": {},
     "output_type": "execute_result"
    }
   ],
   "source": [
    "def check_all(func, l):\n",
    "    return all(list(map(func, l)))\n",
    "\n",
    "check_all(lambda x: x < 10, [3,5,7])"
   ],
   "metadata": {
    "collapsed": false,
    "pycharm": {
     "name": "#%%\n"
    }
   }
  },
  {
   "cell_type": "code",
   "execution_count": 8,
   "outputs": [
    {
     "name": "stdout",
     "output_type": "stream",
     "text": [
      "1 * 2 = 2\n",
      "2 * 3 = 6\n",
      "6 * 4 = 24\n"
     ]
    }
   ],
   "source": [
    "from functools import reduce\n",
    "def factorial(n):\n",
    "    num_list = range(1, n+1)\n",
    "\n",
    "    def my_func(a, b):\n",
    "        result = a * b\n",
    "        print(f\"{a} * {b} = {result}\")\n",
    "        return result\n",
    "    reduce(my_func, num_list)\n",
    "\n",
    "factorial(4)"
   ],
   "metadata": {
    "collapsed": false,
    "pycharm": {
     "name": "#%%\n"
    }
   }
  }
 ],
 "metadata": {
  "kernelspec": {
   "display_name": "Python 3",
   "language": "python",
   "name": "python3"
  },
  "language_info": {
   "codemirror_mode": {
    "name": "ipython",
    "version": 2
   },
   "file_extension": ".py",
   "mimetype": "text/x-python",
   "name": "python",
   "nbconvert_exporter": "python",
   "pygments_lexer": "ipython2",
   "version": "2.7.6"
  }
 },
 "nbformat": 4,
 "nbformat_minor": 0
}